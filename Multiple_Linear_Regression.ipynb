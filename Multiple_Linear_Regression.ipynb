{
  "nbformat": 4,
  "nbformat_minor": 0,
  "metadata": {
    "colab": {
      "provenance": [],
      "authorship_tag": "ABX9TyPkpNeC52z7ljvLl2rrUwpU",
      "include_colab_link": true
    },
    "kernelspec": {
      "name": "python3",
      "display_name": "Python 3"
    },
    "language_info": {
      "name": "python"
    }
  },
  "cells": [
    {
      "cell_type": "markdown",
      "metadata": {
        "id": "view-in-github",
        "colab_type": "text"
      },
      "source": [
        "<a href=\"https://colab.research.google.com/github/YahiaZakariaBenkhira/Machine-Learning/blob/main/Multiple_Linear_Regression.ipynb\" target=\"_parent\"><img src=\"https://colab.research.google.com/assets/colab-badge.svg\" alt=\"Open In Colab\"/></a>"
      ]
    },
    {
      "cell_type": "code",
      "execution_count": 5,
      "metadata": {
        "id": "x4ZP1PrTmYrL"
      },
      "outputs": [],
      "source": [
        "#Data Preprocessing\n",
        "import pandas as pd\n",
        "import numpy as np\n",
        "\n",
        "\n",
        "#Importing the dataset\n",
        "dataset = pd.read_csv('/content/50_Startups.csv')\n",
        "X = dataset.iloc[ : , :-1].values\n",
        "Y = dataset.iloc[ : ,  4 ].values\n",
        "\n",
        "#Encoding Categorical data\n",
        "from sklearn.compose import ColumnTransformer\n",
        "from sklearn.preprocessing import OneHotEncoder, LabelEncoder\n",
        "\n",
        "# Assuming you have imported the libraries and defined X earlier\n",
        "\n",
        "# Applying Label Encoding to the categorical column\n",
        "labelencoder = LabelEncoder()\n",
        "X[:, 3] = labelencoder.fit_transform(X[:, 3])\n",
        "\n",
        "# Defining the categorical column index for ColumnTransformer\n",
        "categorical_column_index = [3]\n",
        "\n",
        "# Creating a transformer\n",
        "column_transformer = ColumnTransformer(\n",
        "    transformers=[('encoder', OneHotEncoder(), categorical_column_index)],\n",
        "    remainder='passthrough'\n",
        ")\n",
        "\n",
        "# Transforming the data\n",
        "X = column_transformer.fit_transform(X)\n",
        "\n",
        "\n",
        "#Avoiding Dummy Variable Trap\n",
        "X = X[: , 1:]\n",
        "\n",
        "#Splitting the dataset into the Training set and Test set\n",
        "from sklearn.model_selection import train_test_split\n",
        "X_train, X_test, Y_train, Y_test = train_test_split(X, Y, test_size = 0.2, random_state = 0)\n",
        "\n",
        "#Fitting Multiple Linear Regression to the Training set\n",
        "from sklearn.linear_model import LinearRegression\n",
        "regressor = LinearRegression()\n",
        "regressor.fit(X_train, Y_train)\n",
        "\n",
        "#Predicting the Test set results\n",
        "y_pred = regressor.predict(X_test)\n"
      ]
    }
  ]
}